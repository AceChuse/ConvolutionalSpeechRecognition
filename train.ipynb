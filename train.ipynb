{
 "cells": [
  {
   "cell_type": "markdown",
   "metadata": {},
   "source": [
    "# Wav2Letter Example using Google Speech Command Dataset\n",
    "\n",
    "Google Speech Command Dataset can be found [here](https://www.kaggle.com/c/tensorflow-speech-recognition-challenge/data). This dataset was chosen as a quick and convenient way to test Wav2Letter performance"
   ]
  },
  {
   "cell_type": "code",
   "execution_count": 1,
   "metadata": {},
   "outputs": [],
   "source": [
    "## basic packages\n",
    "import numpy as np\n",
    "import matplotlib.pyplot as plt\n",
    "import torch\n",
    "import torch.nn as nn\n",
    "import torch.optim as optim\n",
    "from importlib import reload\n",
    "from tqdm.notebook import tqdm"
   ]
  },
  {
   "cell_type": "markdown",
   "metadata": {},
   "source": [
    "## Load Data"
   ]
  },
  {
   "cell_type": "code",
   "execution_count": 2,
   "metadata": {},
   "outputs": [
    {
     "name": "stdout",
     "output_type": "stream",
     "text": [
      "total samples: 64721\n",
      "splits: [45304, 6472, 12945]\n",
      "28\n"
     ]
    }
   ],
   "source": [
    "import Module.dataloading\n",
    "reload(Module.dataloading)\n",
    "from Module.dataloading import GoogleSpeechCommand, get_loaders\n",
    "\n",
    "labels = ['right', 'eight', 'cat', 'tree', 'bed', 'happy', 'go', 'dog', 'no', 'wow', 'nine', 'left',\n",
    "          'stop', 'three', 'sheila', 'one', 'bird', 'zero','seven', 'up', 'marvin', 'two', 'house',\n",
    "          'down', 'six', 'yes', 'on', 'five', 'off', 'four']\n",
    "\n",
    "alphabet = 'qwertyuiopasdfghjklzxcvbnm'\n",
    "\n",
    "# using google's speech command dataset\n",
    "dataset = GoogleSpeechCommand(labels=labels, alphabet=alphabet, max_frame_len=250, data_path=\"/home/labmanager/Documents/DataSet/ASR/GSC/google/\", preprocess='mfcc')\n",
    "print('total samples:',len(dataset))\n",
    "train_loader, val_loader, test_loader, splits = get_loaders(dataset, batch_size=10, splits=[0.7, 0.1, 0.2])\n",
    "print('splits:', splits)\n",
    "print(dataset.intencode.grapheme_count)"
   ]
  },
  {
   "cell_type": "code",
   "execution_count": 3,
   "metadata": {},
   "outputs": [
    {
     "name": "stdout",
     "output_type": "stream",
     "text": [
      "(40, 250)\n"
     ]
    }
   ],
   "source": [
    "x,y = dataset[0]\n",
    "print(x.shape)"
   ]
  },
  {
   "cell_type": "markdown",
   "metadata": {},
   "source": [
    "## Build Model"
   ]
  },
  {
   "cell_type": "code",
   "execution_count": 5,
   "metadata": {},
   "outputs": [
    {
     "name": "stdout",
     "output_type": "stream",
     "text": [
      "Wav2Letter(\n",
      "  (criterion): CTCLoss()\n",
      "  (layers): Sequential(\n",
      "    (0): Conv1d(40, 250, kernel_size=(31,), stride=(2,))\n",
      "    (1): BatchNorm1d(250, eps=1e-05, momentum=0.1, affine=False, track_running_stats=True)\n",
      "    (2): ReLU()\n",
      "    (3): Conv1d(250, 250, kernel_size=(19,), stride=(1,))\n",
      "    (4): BatchNorm1d(250, eps=1e-05, momentum=0.1, affine=False, track_running_stats=True)\n",
      "    (5): ReLU()\n",
      "    (6): Conv1d(250, 250, kernel_size=(17,), stride=(1,))\n",
      "    (7): BatchNorm1d(250, eps=1e-05, momentum=0.1, affine=False, track_running_stats=True)\n",
      "    (8): ReLU()\n",
      "    (9): Conv1d(250, 250, kernel_size=(11,), stride=(1,))\n",
      "    (10): BatchNorm1d(250, eps=1e-05, momentum=0.1, affine=False, track_running_stats=True)\n",
      "    (11): ReLU()\n",
      "    (12): Conv1d(250, 250, kernel_size=(7,), stride=(1,))\n",
      "    (13): BatchNorm1d(250, eps=1e-05, momentum=0.1, affine=False, track_running_stats=True)\n",
      "    (14): ReLU()\n",
      "    (15): Conv1d(250, 250, kernel_size=(7,), stride=(1,))\n",
      "    (16): BatchNorm1d(250, eps=1e-05, momentum=0.1, affine=False, track_running_stats=True)\n",
      "    (17): ReLU()\n",
      "    (18): Conv1d(250, 250, kernel_size=(5,), stride=(1,))\n",
      "    (19): BatchNorm1d(250, eps=1e-05, momentum=0.1, affine=False, track_running_stats=True)\n",
      "    (20): ReLU()\n",
      "    (21): Conv1d(250, 250, kernel_size=(5,), stride=(1,))\n",
      "    (22): BatchNorm1d(250, eps=1e-05, momentum=0.1, affine=False, track_running_stats=True)\n",
      "    (23): ReLU()\n",
      "    (24): Conv1d(250, 500, kernel_size=(5,), stride=(1,))\n",
      "    (25): BatchNorm1d(500, eps=1e-05, momentum=0.1, affine=False, track_running_stats=True)\n",
      "    (26): ReLU()\n",
      "    (27): Conv1d(500, 500, kernel_size=(1,), stride=(1,))\n",
      "    (28): BatchNorm1d(500, eps=1e-05, momentum=0.1, affine=False, track_running_stats=True)\n",
      "    (29): ReLU()\n",
      "    (30): Conv1d(500, 28, kernel_size=(1,), stride=(1,))\n",
      "  )\n",
      ")\n"
     ]
    }
   ],
   "source": [
    "import Module.model\n",
    "reload(Module.model)\n",
    "from Module.model import Wav2Letter\n",
    "\n",
    "num_features = 40\n",
    "num_classes = dataset.intencode.grapheme_count\n",
    "criterion = nn.CTCLoss()\n",
    "device = torch.device('cuda:0')\n",
    "\n",
    "model = Wav2Letter(num_features, num_classes, criterion, device)\n",
    "optimizer = optim.Adam(model.parameters(), lr=1e-3)\n",
    "print(model)"
   ]
  },
  {
   "cell_type": "code",
   "execution_count": 6,
   "metadata": {},
   "outputs": [
    {
     "data": {
      "text/plain": [
       "5639528"
      ]
     },
     "execution_count": 6,
     "metadata": {},
     "output_type": "execute_result"
    }
   ],
   "source": [
    "model.get_n_params()"
   ]
  },
  {
   "cell_type": "code",
   "execution_count": 6,
   "metadata": {},
   "outputs": [],
   "source": [
    "# model.load('wav2letter_1.pkl')"
   ]
  },
  {
   "cell_type": "markdown",
   "metadata": {},
   "source": [
    "## Train"
   ]
  },
  {
   "cell_type": "code",
   "execution_count": 7,
   "metadata": {},
   "outputs": [
    {
     "data": {
      "application/vnd.jupyter.widget-view+json": {
       "model_id": "95c41e6835c740dfa53fdb6cae378982",
       "version_major": 2,
       "version_minor": 0
      },
      "text/plain": [
       "HBox(children=(FloatProgress(value=0.0, max=10.0), HTML(value='')))"
      ]
     },
     "metadata": {},
     "output_type": "display_data"
    },
    {
     "name": "stdout",
     "output_type": "stream",
     "text": [
      "epoch 1  loss : 0.1920410399589146 val loss : 0.17871451390762116\n",
      "epoch 2  loss : 0.18203972176877767 val loss : 0.17969050946356488\n",
      "epoch 3  loss : 0.1729149349650877 val loss : 0.17353780037172056\n",
      "epoch 4  loss : 0.17583881994818243 val loss : 0.18196767568588257\n",
      "epoch 5  loss : 0.17508877307287105 val loss : 0.16649062784183746\n",
      "epoch 6  loss : 0.16100615539273755 val loss : 0.15908104722815183\n",
      "epoch 7  loss : 0.1554603450646275 val loss : 0.15772253223343743\n",
      "epoch 8  loss : 0.15948467588263646 val loss : 0.1559779870753235\n",
      "epoch 9  loss : 0.14856014931326134 val loss : 0.17608740767383457\n",
      "epoch 10  loss : 0.14804141418937658 val loss : 0.14506512007253575\n",
      "\n"
     ]
    }
   ],
   "source": [
    "model.fit(train_loader, val_loader=val_loader, epochs=10, optimizer=optimizer, verbose=1)"
   ]
  },
  {
   "cell_type": "code",
   "execution_count": 8,
   "metadata": {},
   "outputs": [],
   "source": [
    "model.save('mfcc')"
   ]
  },
  {
   "cell_type": "code",
   "execution_count": 9,
   "metadata": {},
   "outputs": [
    {
     "data": {
      "image/png": "[encoded data removed]",
      "text/plain": [
       "<Figure size 576x720 with 1 Axes>"
      ]
     },
     "metadata": {
      "needs_background": "light"
     },
     "output_type": "display_data"
    }
   ],
   "source": [
    "plt.figure(figsize=(8,10))\n",
    "model.plot_hist()"
   ]
  },
  {
   "cell_type": "markdown",
   "metadata": {},
   "source": [
    "## Evaluate"
   ]
  },
  {
   "cell_type": "code",
   "execution_count": 10,
   "metadata": {},
   "outputs": [],
   "source": [
    "import Module.decoder\n",
    "reload(Module.decoder)\n",
    "from Module.decoder import GreedyDecoder\n",
    "\n",
    "outputs, loss = model.eval(val_loader, decoder=GreedyDecoder, out=True)"
   ]
  },
  {
   "cell_type": "code",
   "execution_count": 11,
   "metadata": {},
   "outputs": [
    {
     "name": "stdout",
     "output_type": "stream",
     "text": [
      "pred: tiii  gt: marvin\n",
      "pred: iyeyeyyyyyeyyyeyyyyyey  gt: happy\n",
      "pred: utytqtqttttqtqyyytttt  gt: go\n",
      "pred: eiyuuuuuuquuyyuuuuu  gt: house\n",
      "pred: tuuquuuuwuuuueuuqiuuuquuiquq  gt: left\n",
      "pred: rtttttttttttttttt  gt: nine\n",
      "pred: wwwwwwwwwwwwtwwwwwwwewwwwww  gt: five\n",
      "pred: tieiiiiqeeeeiiiiiiiiiiieiii  gt: five\n",
      "pred: ywwwwwwwwwwwwwwwwwwwwwwwwwww  gt: three\n",
      "pred: qtttttttt  gt: eight\n"
     ]
    }
   ],
   "source": [
    "for batch in val_loader:\n",
    "    x,y = batch\n",
    "    for a,b in zip(outputs,y):\n",
    "        res = dataset.intencode.convert_to_chars(a)\n",
    "        gt = dataset.intencode.convert_to_chars(b)\n",
    "        print('pred:',res,' gt:',  gt)\n",
    "    break"
   ]
  },
  {
   "cell_type": "code",
   "execution_count": null,
   "metadata": {},
   "outputs": [],
   "source": []
  }
 ],
 "metadata": {
  "kernelspec": {
   "display_name": "Python 3",
   "language": "python",
   "name": "python3"
  },
  "language_info": {
   "codemirror_mode": {
    "name": "ipython",
    "version": 3
   },
   "file_extension": ".py",
   "mimetype": "text/x-python",
   "name": "python",
   "nbconvert_exporter": "python",
   "pygments_lexer": "ipython3",
   "version": "3.7.5"
  }
 },
 "nbformat": 4,
 "nbformat_minor": 2
}
